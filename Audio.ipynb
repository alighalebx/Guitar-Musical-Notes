{
  "nbformat": 4,
  "nbformat_minor": 0,
  "metadata": {
    "colab": {
      "provenance": [],
      "authorship_tag": "ABX9TyOTFzvWxg8aSEcq6TxYVqCj",
      "include_colab_link": true
    },
    "kernelspec": {
      "name": "python3",
      "display_name": "Python 3"
    },
    "language_info": {
      "name": "python"
    }
  },
  "cells": [
    {
      "cell_type": "markdown",
      "metadata": {
        "id": "view-in-github",
        "colab_type": "text"
      },
      "source": [
        "<a href=\"https://colab.research.google.com/github/alighalebx/Guitar-Musical-Notes/blob/main/Audio.ipynb\" target=\"_parent\"><img src=\"https://colab.research.google.com/assets/colab-badge.svg\" alt=\"Open In Colab\"/></a>"
      ]
    },
    {
      "cell_type": "code",
      "execution_count": null,
      "metadata": {
        "colab": {
          "base_uri": "https://localhost:8080/"
        },
        "id": "tEd0drZ8rK-o",
        "outputId": "8aaa953c-46b9-4b6c-ed0a-acf23cee6aa9"
      },
      "outputs": [
        {
          "output_type": "stream",
          "name": "stdout",
          "text": [
            "Mounted at /content/drive\n",
            "Note: using Google CoLab\n",
            "Requirement already satisfied: kaleido in /usr/local/lib/python3.10/dist-packages (0.2.1)\n"
          ]
        }
      ],
      "source": [
        "# try:\n",
        "#     from google.colab import drive\n",
        "#     drive.mount('/content/drive', force_remount=True)\n",
        "#     COLAB = True\n",
        "#     print(\"Note: using Google CoLab\")\n",
        "# except:\n",
        "#     print(\"Note: not using Google CoLab\")\n",
        "#     COLAB = False\n",
        "\n",
        "PATH = '/content/drive/MyDrive/projects/audio'\n",
        "\n",
        "!pip install -U kaleido\n",
        "\n",
        "# Configuration\n",
        "FPS = 30\n",
        "FFT_WINDOW_SECONDS = 0.25 # how many seconds of audio make up an FFT window\n",
        "\n",
        "# Note range to display\n",
        "FREQ_MIN = 80  # Adjust as needed\n",
        "FREQ_MAX = 1200  # Adjust as needed\n",
        "\n",
        "# Notes to display\n",
        "TOP_NOTES = 3\n",
        "\n",
        "# Names of the notes\n",
        "NOTE_NAMES = [\"E2\", \"A2\", \"D3\", \"G3\", \"B3\", \"E4\"]\n",
        "notesList = [['E2', '82.41'],\n",
        "        ['F2', '87.31'],\n",
        "        ['F#2/Gb2', '92.5'],\n",
        "        ['G2', '98'],\n",
        "        ['G#2/Ab2', '103.83'],\n",
        "        ['A2', '110'],\n",
        "        ['A#2/Bb2', '116.54'],\n",
        "        ['B2', '123.47'],\n",
        "        ['C3', '130.81'],\n",
        "        ['C#3/Db3', '138.59'],\n",
        "        ['D3', '146.83'],\n",
        "        ['D#3/Eb3', '155.56'],\n",
        "        ['E3', '164.81'],\n",
        "        ['F3', '174.61'],\n",
        "        ['F#3/Gb3', '185'],\n",
        "        ['G3', '196'],\n",
        "        ['G#3/Ab3', '207.65'],\n",
        "        ['A3', '220'],\n",
        "        ['A#3/Bb3', '233.08'],\n",
        "        ['B3', '246.94'],\n",
        "        ['C4', '261.63'],\n",
        "        ['C#4/Db4', '277.18'],\n",
        "        ['D4', '293.66'],\n",
        "        ['D#4/Eb4', '311.13'],\n",
        "        ['E4', '329.63'],\n",
        "        ['F4', '349.23'],\n",
        "        ['F#4/Gb4', '369.99'],\n",
        "        ['G4', '392'],\n",
        "        ['G#4/Ab4', '415.3'],\n",
        "        ['A4', '440'],\n",
        "        ['A#4/Bb4', '466.16'],\n",
        "        ['B4', '493.88'],\n",
        "        ['C5', '523.25'],\n",
        "        ['C#5/Db5', '554.37'],\n",
        "        ['D5', '587.33'],\n",
        "        ['D#5/Eb5', '622.25'],\n",
        "        ['E5', '659.25']]\n",
        "\n",
        "\n",
        "# Output size. Generally use SCALE for higher res, unless you need a non-standard aspect ratio.\n",
        "RESOLUTION = (1920, 1080)\n",
        "SCALE = 2 # 0.5=QHD(960x540), 1=HD(1920x1080), 2=4K(3840x2160)"
      ]
    },
    {
      "cell_type": "code",
      "source": [
        "import matplotlib.pyplot as plt\n",
        "from scipy.fftpack import fft\n",
        "from scipy.io import wavfile # get the api\n",
        "import os\n",
        "\n",
        "# Get a WAV file from GDrive, such as:\n",
        "# AUDIO_FILE = os.path.join(PATH,'short_popcorn.wav')\n",
        "\n",
        "# Or download my sample audio\n",
        "# !wget https://github.com/jeffheaton/present/raw/master/youtube/video/sample_audio/piano_c_major_scale.wav\n",
        "AUDIO_FILE = \"/content/audio2.wav\"\n",
        "\n",
        "fs, data = wavfile.read(AUDIO_FILE) # load the data\n",
        "audio = data.T[0] # this is a two channel soundtrack, get the first track\n",
        "FRAME_STEP = (fs / FPS) # audio samples per video frame\n",
        "FFT_WINDOW_SIZE = int(fs * FFT_WINDOW_SECONDS)\n",
        "AUDIO_LENGTH = len(audio)/fs"
      ],
      "metadata": {
        "id": "W90VegQlrMN9"
      },
      "execution_count": null,
      "outputs": []
    },
    {
      "cell_type": "code",
      "source": [
        "import plotly.graph_objects as go\n",
        "\n",
        "def plot_fft(p, xf, fs, notes, dimensions=(960,540)):\n",
        "  layout = go.Layout(\n",
        "      title=\"frequency spectrum\",\n",
        "      autosize=False,\n",
        "      width=dimensions[0],\n",
        "      height=dimensions[1],\n",
        "      xaxis_title=\"Frequency (note)\",\n",
        "      yaxis_title=\"Magnitude\",\n",
        "      font={'size' : 24}\n",
        "  )\n",
        "\n",
        "  fig = go.Figure(layout=layout,\n",
        "                  layout_xaxis_range=[FREQ_MIN,FREQ_MAX],\n",
        "                  layout_yaxis_range=[0,1]\n",
        "                  )\n",
        "\n",
        "  fig.add_trace(go.Scatter(\n",
        "      x = xf,\n",
        "      y = p))\n",
        "\n",
        "  for note in notes:\n",
        "    fig.add_annotation(x=note[0]+10, y=note[2],\n",
        "            text=note[1],\n",
        "            font = {'size' : 48},\n",
        "            showarrow=False)\n",
        "  return fig\n",
        "\n",
        "def extract_sample(audio, frame_number):\n",
        "  end = frame_number * FRAME_OFFSET\n",
        "  begin = int(end - FFT_WINDOW_SIZE)\n",
        "\n",
        "  if end == 0:\n",
        "    # We have no audio yet, return all zeros (very beginning)\n",
        "    return np.zeros((np.abs(begin)),dtype=float)\n",
        "  elif begin<0:\n",
        "    # We have some audio, padd with zeros\n",
        "    return np.concatenate([np.zeros((np.abs(begin)),dtype=float),audio[0:end]])\n",
        "  else:\n",
        "    # Usually this happens, return the next sample\n",
        "    return audio[begin:end]\n",
        "\n",
        "def find_top_notes(fft, num):\n",
        "    if np.max(fft.real) < 0.001:\n",
        "        return []\n",
        "\n",
        "    lst = [x for x in enumerate(fft.real)]\n",
        "    lst = sorted(lst, key=lambda x: x[1], reverse=True)\n",
        "\n",
        "    idx = 0\n",
        "    found = []\n",
        "    found_note = set()\n",
        "\n",
        "    while idx < len(lst) and len(found) < num:\n",
        "        f = xf[lst[idx][0]]\n",
        "        y = lst[idx][1]\n",
        "        n = freq_to_number(f)\n",
        "\n",
        "        if n not in found_note:\n",
        "            found_note.add(n)\n",
        "            s = [f, n, y]\n",
        "            found.append(s)\n",
        "        idx += 1\n",
        "\n",
        "    return found"
      ],
      "metadata": {
        "id": "MwoRhAMosRQF"
      },
      "execution_count": null,
      "outputs": []
    },
    {
      "cell_type": "code",
      "source": [
        "import numpy as np\n",
        "import tqdm\n",
        "import pandas as pd\n",
        "\n",
        "\n",
        "# See https://newt.phys.unsw.edu.au/jw/notes.html\n",
        "# Adjust the function to convert frequency to note number\n",
        "\n",
        "def freq_to_number(f):\n",
        "    nearest_freq = min(notesList, key=lambda x: abs(float(x[1]) - f))\n",
        "    return nearest_freq[0]\n",
        "\n",
        "# Adjust the function to convert note name to frequency\n",
        "def number_to_freq(n):\n",
        "    return float([freq for note, freq in notesList if note == n][0])\n",
        "\n",
        "# def freq_to_number(f): return 47 + 12 * np.log2(f / 82.41)  # Adjust the reference frequency (82.41 Hz is E2)\n",
        "\n",
        "# # Adjust the function to convert note number to frequency\n",
        "# def number_to_freq(n): return 82.41 * 2.0**((n - 47) / 12.0)  # Adjust the reference frequency\n",
        "\n",
        "# Adjust the function to get the note name\n",
        "# def note_name(n): return NOTE_NAMES[int(n) % 6] + str(int(n / 6))\n",
        "\n",
        "# Hanning window function\n",
        "window = 0.5 * (1 - np.cos(np.linspace(0, 2*np.pi, FFT_WINDOW_SIZE, False)))\n",
        "\n",
        "xf = np.fft.rfftfreq(FFT_WINDOW_SIZE, 1/fs)\n",
        "FRAME_COUNT = int(AUDIO_LENGTH*FPS)\n",
        "FRAME_OFFSET = int(len(audio)/FRAME_COUNT)\n",
        "data_list = []\n",
        "\n",
        "# Pass 1, find out the maximum amplitude so we can scale.\n",
        "mx = 0\n",
        "for frame_number in range(FRAME_COUNT):\n",
        "  sample = extract_sample(audio, frame_number)\n",
        "\n",
        "  fft = np.fft.rfft(sample * window)\n",
        "  fft = np.abs(fft).real\n",
        "  mx = max(np.max(fft),mx)\n",
        "\n",
        "print(f\"Max amplitude: {mx}\")\n",
        "\n",
        "# Pass 2, produce the animation\n",
        "for frame_number in tqdm.tqdm(range(FRAME_COUNT)):\n",
        "  sample = extract_sample(audio, frame_number)\n",
        "\n",
        "  fft = np.fft.rfft(sample * window)\n",
        "  fft = np.abs(fft) / mx\n",
        "\n",
        "  s = find_top_notes(fft,TOP_NOTES)\n",
        "  data_list.append({\n",
        "        'Frame Number': frame_number,\n",
        "        'FFT Values': fft.real.tolist(),\n",
        "        'Top Notes': s\n",
        "    })\n",
        "\n",
        "  # fig = plot_fft(fft.real,xf,fs,s,RESOLUTION)\n",
        "  # fig.write_image(f\"/content/frame{frame_number}.png\")\n",
        "df = pd.DataFrame(data_list)\n",
        "\n",
        "# Save the DataFrame to an Excel file\n",
        "df.to_excel(\"/content/fft_data2.xlsx\", index=False)"
      ],
      "metadata": {
        "colab": {
          "base_uri": "https://localhost:8080/"
        },
        "id": "RteCUMlmsTdY",
        "outputId": "57473711-5130-405f-ad53-10a8b6ea1c22"
      },
      "execution_count": null,
      "outputs": [
        {
          "output_type": "stream",
          "name": "stdout",
          "text": [
            "Max amplitude: 40283391.4071577\n"
          ]
        },
        {
          "output_type": "stream",
          "name": "stderr",
          "text": [
            "100%|██████████| 5232/5232 [19:45<00:00,  4.42it/s]\n"
          ]
        }
      ]
    },
    {
      "cell_type": "code",
      "source": [
        "# !ffmpeg -y -r {FPS} -f image2 -s 1920x1080 -i frame%d.png -i {AUDIO_FILE} -c:v libx264 -pix_fmt yuv420p movie.mp4"
      ],
      "metadata": {
        "colab": {
          "base_uri": "https://localhost:8080/"
        },
        "id": "ixm8NLVvtkon",
        "outputId": "6ca28ca8-481c-43d1-9731-61b8926f869e"
      },
      "execution_count": null,
      "outputs": [
        {
          "output_type": "stream",
          "name": "stdout",
          "text": [
            "ffmpeg version 4.4.2-0ubuntu0.22.04.1 Copyright (c) 2000-2021 the FFmpeg developers\n",
            "  built with gcc 11 (Ubuntu 11.2.0-19ubuntu1)\n",
            "  configuration: --prefix=/usr --extra-version=0ubuntu0.22.04.1 --toolchain=hardened --libdir=/usr/lib/x86_64-linux-gnu --incdir=/usr/include/x86_64-linux-gnu --arch=amd64 --enable-gpl --disable-stripping --enable-gnutls --enable-ladspa --enable-libaom --enable-libass --enable-libbluray --enable-libbs2b --enable-libcaca --enable-libcdio --enable-libcodec2 --enable-libdav1d --enable-libflite --enable-libfontconfig --enable-libfreetype --enable-libfribidi --enable-libgme --enable-libgsm --enable-libjack --enable-libmp3lame --enable-libmysofa --enable-libopenjpeg --enable-libopenmpt --enable-libopus --enable-libpulse --enable-librabbitmq --enable-librubberband --enable-libshine --enable-libsnappy --enable-libsoxr --enable-libspeex --enable-libsrt --enable-libssh --enable-libtheora --enable-libtwolame --enable-libvidstab --enable-libvorbis --enable-libvpx --enable-libwebp --enable-libx265 --enable-libxml2 --enable-libxvid --enable-libzimg --enable-libzmq --enable-libzvbi --enable-lv2 --enable-omx --enable-openal --enable-opencl --enable-opengl --enable-sdl2 --enable-pocketsphinx --enable-librsvg --enable-libmfx --enable-libdc1394 --enable-libdrm --enable-libiec61883 --enable-chromaprint --enable-frei0r --enable-libx264 --enable-shared\n",
            "  libavutil      56. 70.100 / 56. 70.100\n",
            "  libavcodec     58.134.100 / 58.134.100\n",
            "  libavformat    58. 76.100 / 58. 76.100\n",
            "  libavdevice    58. 13.100 / 58. 13.100\n",
            "  libavfilter     7.110.100 /  7.110.100\n",
            "  libswscale      5.  9.100 /  5.  9.100\n",
            "  libswresample   3.  9.100 /  3.  9.100\n",
            "  libpostproc    55.  9.100 / 55.  9.100\n",
            "Input #0, image2, from 'frame%d.png':\n",
            "  Duration: 00:02:54.40, start: 0.000000, bitrate: N/A\n",
            "  Stream #0:0: Video: png, rgba(pc), 1920x1080, 30 fps, 30 tbr, 30 tbn, 30 tbc\n",
            "\u001b[0;33mGuessed Channel Layout for Input Stream #1.0 : stereo\n",
            "\u001b[0mInput #1, wav, from '/content/audio2.wav':\n",
            "  Metadata:\n",
            "    artist          : Simple Guitar Tabs\n",
            "    comment         : https://www.youtube.com/watch?v=T3Ohpfk0q2E\n",
            "    date            : 20230927\n",
            "    title           : How to Train your Dragon - Test Drive (Simple Guitar Tab)\n",
            "    encoder         : Lavf58.29.100\n",
            "  Duration: 00:02:54.40, bitrate: 1536 kb/s\n",
            "  Stream #1:0: Audio: pcm_s16le ([1][0][0][0] / 0x0001), 48000 Hz, stereo, s16, 1536 kb/s\n",
            "Stream mapping:\n",
            "  Stream #0:0 -> #0:0 (png (native) -> h264 (libx264))\n",
            "  Stream #1:0 -> #0:1 (pcm_s16le (native) -> aac (native))\n",
            "Press [q] to stop, [?] for help\n",
            "\u001b[0;35m[image2 @ 0x5ad3530511c0] \u001b[0m\u001b[0;33mThread message queue blocking; consider raising the thread_queue_size option (current value: 8)\n",
            "\u001b[0m\u001b[1;36m[libx264 @ 0x5ad3534f5d40] \u001b[0musing cpu capabilities: MMX2 SSE2Fast SSSE3 SSE4.2 AVX FMA3 BMI2 AVX2\n",
            "\u001b[1;36m[libx264 @ 0x5ad3534f5d40] \u001b[0mprofile High, level 4.0, 4:2:0, 8-bit\n",
            "\u001b[1;36m[libx264 @ 0x5ad3534f5d40] \u001b[0m264 - core 163 r3060 5db6aa6 - H.264/MPEG-4 AVC codec - Copyleft 2003-2021 - http://www.videolan.org/x264.html - options: cabac=1 ref=3 deblock=1:0:0 analyse=0x3:0x113 me=hex subme=7 psy=1 psy_rd=1.00:0.00 mixed_ref=1 me_range=16 chroma_me=1 trellis=1 8x8dct=1 cqm=0 deadzone=21,11 fast_pskip=1 chroma_qp_offset=-2 threads=3 lookahead_threads=1 sliced_threads=0 nr=0 decimate=1 interlaced=0 bluray_compat=0 constrained_intra=0 bframes=3 b_pyramid=2 b_adapt=1 b_bias=0 direct=1 weightb=1 open_gop=0 weightp=2 keyint=250 keyint_min=25 scenecut=40 intra_refresh=0 rc_lookahead=40 rc=crf mbtree=1 crf=23.0 qcomp=0.60 qpmin=0 qpmax=69 qpstep=4 ip_ratio=1.40 aq=1:1.00\n",
            "Output #0, mp4, to 'movie.mp4':\n",
            "  Metadata:\n",
            "    encoder         : Lavf58.76.100\n",
            "  Stream #0:0: Video: h264 (avc1 / 0x31637661), yuv420p(tv, progressive), 1920x1080, q=2-31, 30 fps, 15360 tbn\n",
            "    Metadata:\n",
            "      encoder         : Lavc58.134.100 libx264\n",
            "    Side data:\n",
            "      cpb: bitrate max/min/avg: 0/0/0 buffer size: 0 vbv_delay: N/A\n",
            "  Stream #0:1: Audio: aac (LC) (mp4a / 0x6134706D), 48000 Hz, stereo, fltp, 128 kb/s\n",
            "    Metadata:\n",
            "      encoder         : Lavc58.134.100 aac\n",
            "frame= 5232 fps= 16 q=-1.0 Lsize=   12579kB time=00:02:54.37 bitrate= 590.9kbits/s speed=0.528x    \n",
            "video:9689kB audio:2704kB subtitle:0kB other streams:0kB global headers:0kB muxing overhead: 1.502548%\n",
            "\u001b[1;36m[libx264 @ 0x5ad3534f5d40] \u001b[0mframe I:21    Avg QP: 9.70  size: 18678\n",
            "\u001b[1;36m[libx264 @ 0x5ad3534f5d40] \u001b[0mframe P:1855  Avg QP:15.45  size:  2591\n",
            "\u001b[1;36m[libx264 @ 0x5ad3534f5d40] \u001b[0mframe B:3356  Avg QP:18.09  size:  1407\n",
            "\u001b[1;36m[libx264 @ 0x5ad3534f5d40] \u001b[0mconsecutive B-frames:  9.5% 11.4% 10.4% 68.7%\n",
            "\u001b[1;36m[libx264 @ 0x5ad3534f5d40] \u001b[0mmb I  I16..4: 90.9%  4.8%  4.3%\n",
            "\u001b[1;36m[libx264 @ 0x5ad3534f5d40] \u001b[0mmb P  I16..4:  0.3%  0.5%  0.5%  P16..4:  1.1%  0.6%  0.3%  0.0%  0.0%    skip:96.6%\n",
            "\u001b[1;36m[libx264 @ 0x5ad3534f5d40] \u001b[0mmb B  I16..4:  0.1%  0.1%  0.2%  B16..8:  2.0%  0.7%  0.1%  direct: 0.1%  skip:96.7%  L0:50.5% L1:44.1% BI: 5.3%\n",
            "\u001b[1;36m[libx264 @ 0x5ad3534f5d40] \u001b[0m8x8 transform intra:22.2% inter:22.0%\n",
            "\u001b[1;36m[libx264 @ 0x5ad3534f5d40] \u001b[0mcoded y,uvDC,uvAC intra: 19.6% 28.8% 24.5% inter: 0.3% 0.3% 0.2%\n",
            "\u001b[1;36m[libx264 @ 0x5ad3534f5d40] \u001b[0mi16 v,h,dc,p: 71% 28%  1%  0%\n",
            "\u001b[1;36m[libx264 @ 0x5ad3534f5d40] \u001b[0mi8 v,h,dc,ddl,ddr,vr,hd,vl,hu: 13%  3% 82%  0%  0%  0%  0%  0%  0%\n",
            "\u001b[1;36m[libx264 @ 0x5ad3534f5d40] \u001b[0mi4 v,h,dc,ddl,ddr,vr,hd,vl,hu: 27% 29% 24%  3%  3%  4%  3%  5%  2%\n",
            "\u001b[1;36m[libx264 @ 0x5ad3534f5d40] \u001b[0mi8c dc,h,v,p: 64% 23% 13%  1%\n",
            "\u001b[1;36m[libx264 @ 0x5ad3534f5d40] \u001b[0mWeighted P-Frames: Y:0.0% UV:0.0%\n",
            "\u001b[1;36m[libx264 @ 0x5ad3534f5d40] \u001b[0mref P L0: 62.8%  3.0% 20.7% 13.5%\n",
            "\u001b[1;36m[libx264 @ 0x5ad3534f5d40] \u001b[0mref B L0: 76.5% 18.0%  5.5%\n",
            "\u001b[1;36m[libx264 @ 0x5ad3534f5d40] \u001b[0mref B L1: 94.6%  5.4%\n",
            "\u001b[1;36m[libx264 @ 0x5ad3534f5d40] \u001b[0mkb/s:455.08\n",
            "\u001b[1;36m[aac @ 0x5ad3534f7900] \u001b[0mQavg: 1089.378\n"
          ]
        }
      ]
    },
    {
      "cell_type": "code",
      "source": [
        "\n",
        "from google.colab import files\n",
        "files.download('movie.mp4')"
      ],
      "metadata": {
        "colab": {
          "base_uri": "https://localhost:8080/",
          "height": 17
        },
        "id": "zZSS2uTcyLEd",
        "outputId": "8b33a07b-f39f-44ff-90f6-308c9c3497b6"
      },
      "execution_count": null,
      "outputs": [
        {
          "output_type": "display_data",
          "data": {
            "text/plain": [
              "<IPython.core.display.Javascript object>"
            ],
            "application/javascript": [
              "\n",
              "    async function download(id, filename, size) {\n",
              "      if (!google.colab.kernel.accessAllowed) {\n",
              "        return;\n",
              "      }\n",
              "      const div = document.createElement('div');\n",
              "      const label = document.createElement('label');\n",
              "      label.textContent = `Downloading \"${filename}\": `;\n",
              "      div.appendChild(label);\n",
              "      const progress = document.createElement('progress');\n",
              "      progress.max = size;\n",
              "      div.appendChild(progress);\n",
              "      document.body.appendChild(div);\n",
              "\n",
              "      const buffers = [];\n",
              "      let downloaded = 0;\n",
              "\n",
              "      const channel = await google.colab.kernel.comms.open(id);\n",
              "      // Send a message to notify the kernel that we're ready.\n",
              "      channel.send({})\n",
              "\n",
              "      for await (const message of channel.messages) {\n",
              "        // Send a message to notify the kernel that we're ready.\n",
              "        channel.send({})\n",
              "        if (message.buffers) {\n",
              "          for (const buffer of message.buffers) {\n",
              "            buffers.push(buffer);\n",
              "            downloaded += buffer.byteLength;\n",
              "            progress.value = downloaded;\n",
              "          }\n",
              "        }\n",
              "      }\n",
              "      const blob = new Blob(buffers, {type: 'application/binary'});\n",
              "      const a = document.createElement('a');\n",
              "      a.href = window.URL.createObjectURL(blob);\n",
              "      a.download = filename;\n",
              "      div.appendChild(a);\n",
              "      a.click();\n",
              "      div.remove();\n",
              "    }\n",
              "  "
            ]
          },
          "metadata": {}
        },
        {
          "output_type": "display_data",
          "data": {
            "text/plain": [
              "<IPython.core.display.Javascript object>"
            ],
            "application/javascript": [
              "download(\"download_80021bc4-10ac-4cd5-a99b-ab96b45eb9e6\", \"movie.mp4\", 12880717)"
            ]
          },
          "metadata": {}
        }
      ]
    },
    {
      "cell_type": "code",
      "source": [],
      "metadata": {
        "id": "OgWvBxI44TQ4"
      },
      "execution_count": null,
      "outputs": []
    }
  ]
}